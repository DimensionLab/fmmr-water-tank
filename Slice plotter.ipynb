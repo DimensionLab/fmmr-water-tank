{
 "cells": [
  {
   "cell_type": "code",
   "execution_count": 1,
   "id": "a9bd602a",
   "metadata": {
    "ExecuteTime": {
     "end_time": "2022-10-10T18:22:02.419447Z",
     "start_time": "2022-10-10T18:22:02.409064Z"
    }
   },
   "outputs": [],
   "source": [
    "import numpy as np\n",
    "import scipy\n",
    "import plotly.graph_objects as go"
   ]
  },
  {
   "cell_type": "code",
   "execution_count": 2,
   "id": "b538728f",
   "metadata": {
    "ExecuteTime": {
     "end_time": "2022-10-10T18:22:02.424169Z",
     "start_time": "2022-10-10T18:22:02.421020Z"
    }
   },
   "outputs": [],
   "source": [
    "def get_the_slice(x,y,z, surfacecolor):\n",
    "    return go.Surface(x=x,\n",
    "                      y=y,\n",
    "                      z=z,\n",
    "                      surfacecolor=surfacecolor,\n",
    "                      coloraxis='coloraxis')"
   ]
  },
  {
   "cell_type": "code",
   "execution_count": 3,
   "id": "0bbc1c66",
   "metadata": {
    "ExecuteTime": {
     "end_time": "2022-10-10T18:22:02.430284Z",
     "start_time": "2022-10-10T18:22:02.426598Z"
    }
   },
   "outputs": [],
   "source": [
    "def get_lims_colors(surfacecolor):# color limits for a slice\n",
    "    return np.min(surfacecolor), np.max(surfacecolor)"
   ]
  },
  {
   "cell_type": "code",
   "execution_count": 4,
   "id": "a163c28b",
   "metadata": {
    "ExecuteTime": {
     "end_time": "2022-10-10T18:22:02.525128Z",
     "start_time": "2022-10-10T18:22:02.433583Z"
    }
   },
   "outputs": [
    {
     "name": "stdout",
     "output_type": "stream",
     "text": [
      "{'x': array([[0.19525401],\n",
      "       [0.86075747],\n",
      "       [0.58357644],\n",
      "       ...,\n",
      "       [0.9342901 ],\n",
      "       [1.7341961 ],\n",
      "       [0.7279378 ]], dtype=float32), 'y': array([[ 1.1373364],\n",
      "       [ 2.8471022],\n",
      "       [-1.3220987],\n",
      "       ...,\n",
      "       [-2.6658685],\n",
      "       [-2.7191157],\n",
      "       [ 2.9199047]], dtype=float32), 'z': array([[ 1.7312615 ],\n",
      "       [-1.2018676 ],\n",
      "       [ 0.71807927],\n",
      "       ...,\n",
      "       [ 1.9246112 ],\n",
      "       [-1.0815107 ],\n",
      "       [-0.7133488 ]], dtype=float32), 'sdf': array([[0.2687386 ],\n",
      "       [0.15289845],\n",
      "       [1.2819209 ],\n",
      "       ...,\n",
      "       [0.07538861],\n",
      "       [0.26580384],\n",
      "       [0.08009499]], dtype=float32), 'area': array([[9.842344e-05],\n",
      "       [9.842344e-05],\n",
      "       [9.842344e-05],\n",
      "       ...,\n",
      "       [9.842344e-05],\n",
      "       [9.842344e-05],\n",
      "       [9.842344e-05]], dtype=float32), 'inlet_velocity': array([[1.5],\n",
      "       [1.5],\n",
      "       [1.5],\n",
      "       ...,\n",
      "       [1.5],\n",
      "       [1.5],\n",
      "       [1.5]], dtype=float32), 'u': array([[-0.0725103 ],\n",
      "       [-0.00124478],\n",
      "       [-0.02923907],\n",
      "       ...,\n",
      "       [-0.01098238],\n",
      "       [-0.00395185],\n",
      "       [-0.00310404]], dtype=float32), 'v': array([[ 0.0353746 ],\n",
      "       [-0.0061579 ],\n",
      "       [ 0.00082859],\n",
      "       ...,\n",
      "       [-0.00313839],\n",
      "       [-0.00123677],\n",
      "       [-0.00598294]], dtype=float32), 'w': array([[-0.04233479],\n",
      "       [ 0.0019879 ],\n",
      "       [-0.12230369],\n",
      "       ...,\n",
      "       [ 0.00378799],\n",
      "       [-0.00034025],\n",
      "       [ 0.00151914]], dtype=float32), 'p': array([[1.8849909],\n",
      "       [1.8416727],\n",
      "       [1.8400202],\n",
      "       ...,\n",
      "       [1.8782473],\n",
      "       [1.8463957],\n",
      "       [1.8416317]], dtype=float32)}\n",
      "\n",
      " --- x --- \n",
      "\n",
      "[[0.19525401]\n",
      " [0.86075747]\n",
      " [0.58357644]\n",
      " ...\n",
      " [0.9342901 ]\n",
      " [1.7341961 ]\n",
      " [0.7279378 ]]\n",
      "\n",
      " --- x shape --- \n",
      "\n",
      "(1000000, 1)\n"
     ]
    }
   ],
   "source": [
    "# read data to compute u_tau\n",
    "data = np.load(\"outputs/water_tank/inferencers/inf_data.npz\", allow_pickle=True)\n",
    "data = np.atleast_1d(data.f.arr_0)[0]\n",
    "print(data)\n",
    "print(\"\\n --- x --- \\n\")\n",
    "print(data['x'])\n",
    "print(\"\\n --- x shape --- \\n\")\n",
    "print(data['x'].shape)\n"
   ]
  },
  {
   "cell_type": "code",
   "execution_count": null,
   "id": "247efef9",
   "metadata": {
    "ExecuteTime": {
     "start_time": "2022-10-10T18:22:02.298Z"
    }
   },
   "outputs": [],
   "source": [
    "x = np.linspace(-3,3, 50)\n",
    "z = np.linspace(-3,3, 50)\n",
    "y = np.linspace(-3,3, 50)\n",
    "x, z = np.meshgrid(x,y)\n",
    "x, z = np.meshgrid(x,data[\"y\"])\n",
    "w = scipy.interpolate.griddata(\n",
    "    (x, z), data[\"w\"][:, 0], (x, z)\n",
    ")\n",
    "surfcolor_y = w\n",
    "sminy, smaxy = get_lims_colors(surfcolor_y)\n",
    "vmin = min([sminy])\n",
    "vmax = max([smaxy])\n",
    "slice_y = get_the_slice(x, y, z, surfcolor_y)"
   ]
  },
  {
   "cell_type": "code",
   "execution_count": null,
   "id": "60441b5f",
   "metadata": {
    "ExecuteTime": {
     "start_time": "2022-10-10T18:22:02.299Z"
    }
   },
   "outputs": [],
   "source": [
    "def colorax(vmin, vmax):\n",
    "    return dict(cmin=vmin,\n",
    "                cmax=vmax)"
   ]
  },
  {
   "cell_type": "code",
   "execution_count": null,
   "id": "fea56c6b",
   "metadata": {
    "ExecuteTime": {
     "start_time": "2022-10-10T18:22:02.300Z"
    }
   },
   "outputs": [],
   "source": [
    "fig1 = go.Figure(data=[slice_y])\n",
    "fig1.update_layout(\n",
    "         title_text='Slices in volumetric data', \n",
    "         title_x=0.5,\n",
    "         width=700,\n",
    "         height=700,\n",
    "         scene_zaxis_range=[-3,3], \n",
    "         coloraxis=dict(colorscale='BrBG',\n",
    "                        colorbar_thickness=25,\n",
    "                        colorbar_len=0.75,\n",
    "                        **colorax(vmin, vmax)))            \n",
    "      \n",
    "fig1.show()  "
   ]
  },
  {
   "cell_type": "code",
   "execution_count": null,
   "id": "e4186846",
   "metadata": {},
   "outputs": [],
   "source": []
  }
 ],
 "metadata": {
  "kernelspec": {
   "display_name": "Python 3 (ipykernel)",
   "language": "python",
   "name": "python3"
  },
  "language_info": {
   "codemirror_mode": {
    "name": "ipython",
    "version": 3
   },
   "file_extension": ".py",
   "mimetype": "text/x-python",
   "name": "python",
   "nbconvert_exporter": "python",
   "pygments_lexer": "ipython3",
   "version": "3.8.10"
  },
  "toc": {
   "base_numbering": 1,
   "nav_menu": {},
   "number_sections": false,
   "sideBar": true,
   "skip_h1_title": false,
   "title_cell": "Table of Contents",
   "title_sidebar": "Contents",
   "toc_cell": false,
   "toc_position": {},
   "toc_section_display": true,
   "toc_window_display": false
  }
 },
 "nbformat": 4,
 "nbformat_minor": 5
}
